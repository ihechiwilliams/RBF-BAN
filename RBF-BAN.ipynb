{
 "cells": [
  {
   "cell_type": "code",
   "execution_count": 1,
   "metadata": {},
   "outputs": [
    {
     "name": "stdout",
     "output_type": "stream",
     "text": [
      "Requirement already satisfied: torch in /Users/charles/anaconda3/lib/python3.11/site-packages (2.4.0)\n",
      "Requirement already satisfied: torchvision in /Users/charles/anaconda3/lib/python3.11/site-packages (0.19.0)\n",
      "Requirement already satisfied: tqdm in /Users/charles/anaconda3/lib/python3.11/site-packages (4.65.0)\n",
      "Requirement already satisfied: scipy in /Users/charles/anaconda3/lib/python3.11/site-packages (1.11.4)\n",
      "Requirement already satisfied: filelock in /Users/charles/anaconda3/lib/python3.11/site-packages (from torch) (3.13.1)\n",
      "Requirement already satisfied: typing-extensions>=4.8.0 in /Users/charles/anaconda3/lib/python3.11/site-packages (from torch) (4.9.0)\n",
      "Requirement already satisfied: sympy in /Users/charles/anaconda3/lib/python3.11/site-packages (from torch) (1.12)\n",
      "Requirement already satisfied: networkx in /Users/charles/anaconda3/lib/python3.11/site-packages (from torch) (3.1)\n",
      "Requirement already satisfied: jinja2 in /Users/charles/anaconda3/lib/python3.11/site-packages (from torch) (3.1.3)\n",
      "Requirement already satisfied: fsspec in /Users/charles/anaconda3/lib/python3.11/site-packages (from torch) (2023.10.0)\n",
      "Requirement already satisfied: numpy in /Users/charles/anaconda3/lib/python3.11/site-packages (from torchvision) (1.26.4)\n",
      "Requirement already satisfied: pillow!=8.3.*,>=5.3.0 in /Users/charles/anaconda3/lib/python3.11/site-packages (from torchvision) (10.2.0)\n",
      "Requirement already satisfied: MarkupSafe>=2.0 in /Users/charles/anaconda3/lib/python3.11/site-packages (from jinja2->torch) (2.1.3)\n",
      "Requirement already satisfied: mpmath>=0.19 in /Users/charles/anaconda3/lib/python3.11/site-packages (from sympy->torch) (1.3.0)\n",
      "Note: you may need to restart the kernel to use updated packages.\n"
     ]
    }
   ],
   "source": [
    "pip install torch torchvision tqdm scipy"
   ]
  },
  {
   "cell_type": "code",
   "execution_count": 2,
   "metadata": {},
   "outputs": [],
   "source": [
    "### BesselTorch_rbf"
   ]
  },
  {
   "cell_type": "code",
   "execution_count": 3,
   "metadata": {},
   "outputs": [
    {
     "name": "stderr",
     "output_type": "stream",
     "text": [
      "/Users/charles/anaconda3/lib/python3.11/site-packages/torch/optim/lr_scheduler.py:60: UserWarning: The verbose parameter is deprecated. Please use get_last_lr() to access the learning rate.\n",
      "  warnings.warn(\n",
      "100%|█████████████| 938/938 [00:04<00:00, 195.91it/s, accuracy=0.188, loss=1.85]\n"
     ]
    },
    {
     "name": "stdout",
     "output_type": "stream",
     "text": [
      "Epoch 1, Train Loss: 1.8491423546886647, Train Accuracy: 0.3093350213219616, Val Loss: 1.637801615295896, Val Accuracy: 0.4254578025477707\n"
     ]
    },
    {
     "name": "stderr",
     "output_type": "stream",
     "text": [
      "100%|█████████████| 938/938 [00:04<00:00, 202.65it/s, accuracy=0.469, loss=1.54]\n"
     ]
    },
    {
     "name": "stdout",
     "output_type": "stream",
     "text": [
      "Epoch 2, Train Loss: 1.4611397613086172, Train Accuracy: 0.5031816364605544, Val Loss: 1.2612032381592282, Val Accuracy: 0.5824044585987261\n"
     ]
    },
    {
     "name": "stderr",
     "output_type": "stream",
     "text": [
      "100%|█████████████| 938/938 [00:04<00:00, 203.57it/s, accuracy=0.75, loss=0.859]\n"
     ]
    },
    {
     "name": "stdout",
     "output_type": "stream",
     "text": [
      "Epoch 3, Train Loss: 1.170762886497766, Train Accuracy: 0.617204157782516, Val Loss: 1.053619878686917, Val Accuracy: 0.6705812101910829\n"
     ]
    },
    {
     "name": "stderr",
     "output_type": "stream",
     "text": [
      "100%|█████████████| 938/938 [00:04<00:00, 189.15it/s, accuracy=0.375, loss=1.43]\n"
     ]
    },
    {
     "name": "stdout",
     "output_type": "stream",
     "text": [
      "Epoch 4, Train Loss: 1.0146674231044266, Train Accuracy: 0.6745235874200426, Val Loss: 1.0150204756457335, Val Accuracy: 0.6713773885350318\n"
     ]
    },
    {
     "name": "stderr",
     "output_type": "stream",
     "text": [
      "100%|█████████████| 938/938 [00:04<00:00, 207.33it/s, accuracy=0.625, loss=1.18]\n"
     ]
    },
    {
     "name": "stdout",
     "output_type": "stream",
     "text": [
      "Epoch 5, Train Loss: 0.9117738707487517, Train Accuracy: 0.7115371801705757, Val Loss: 0.8570217661037567, Val Accuracy: 0.7227308917197452\n"
     ]
    },
    {
     "name": "stderr",
     "output_type": "stream",
     "text": [
      "100%|████████████| 938/938 [00:04<00:00, 207.54it/s, accuracy=0.656, loss=0.935]\n"
     ]
    },
    {
     "name": "stdout",
     "output_type": "stream",
     "text": [
      "Epoch 6, Train Loss: 0.8345351500678927, Train Accuracy: 0.7385894189765458, Val Loss: 0.8207709975303359, Val Accuracy: 0.7471138535031847\n"
     ]
    },
    {
     "name": "stderr",
     "output_type": "stream",
     "text": [
      "100%|████████████| 938/938 [00:04<00:00, 190.12it/s, accuracy=0.688, loss=0.947]\n"
     ]
    },
    {
     "name": "stdout",
     "output_type": "stream",
     "text": [
      "Epoch 7, Train Loss: 0.7817760809207521, Train Accuracy: 0.7569629530916845, Val Loss: 0.7140475562803305, Val Accuracy: 0.7884156050955414\n"
     ]
    },
    {
     "name": "stderr",
     "output_type": "stream",
     "text": [
      "100%|████████████| 938/938 [00:04<00:00, 190.17it/s, accuracy=0.812, loss=0.627]\n"
     ]
    },
    {
     "name": "stdout",
     "output_type": "stream",
     "text": [
      "Epoch 8, Train Loss: 0.7362334903941226, Train Accuracy: 0.7741537846481876, Val Loss: 0.730167004523004, Val Accuracy: 0.7898089171974523\n"
     ]
    },
    {
     "name": "stderr",
     "output_type": "stream",
     "text": [
      "100%|████████████| 938/938 [00:05<00:00, 172.89it/s, accuracy=0.812, loss=0.636]\n"
     ]
    },
    {
     "name": "stdout",
     "output_type": "stream",
     "text": [
      "Epoch 9, Train Loss: 0.7033162705107793, Train Accuracy: 0.7850646321961621, Val Loss: 0.6546746264597413, Val Accuracy: 0.8074243630573248\n"
     ]
    },
    {
     "name": "stderr",
     "output_type": "stream",
     "text": [
      "100%|████████████| 938/938 [00:05<00:00, 176.11it/s, accuracy=0.656, loss=0.775]\n"
     ]
    },
    {
     "name": "stdout",
     "output_type": "stream",
     "text": [
      "Epoch 10, Train Loss: 0.6832666634115329, Train Accuracy: 0.7906616471215352, Val Loss: 0.6668376351238057, Val Accuracy: 0.7894108280254777\n"
     ]
    }
   ],
   "source": [
    "import torch\n",
    "import torch.nn as nn\n",
    "import torch.optim as optim\n",
    "from torch.optim.lr_scheduler import ReduceLROnPlateau\n",
    "import torchvision\n",
    "import torchvision.transforms as transforms\n",
    "from torch.utils.data import DataLoader\n",
    "from tqdm import tqdm\n",
    "\n",
    "import torch\n",
    "import torch.nn as nn\n",
    "import torch.nn.init as init\n",
    "\n",
    "class RBFBANLayer(nn.Module):\n",
    "    def __init__(self, input_dim, output_dim, num_centers, alpha=1.0):\n",
    "        super(RBFBANLayer, self).__init__()\n",
    "        self.input_dim = input_dim\n",
    "        self.output_dim = output_dim\n",
    "        self.num_centers = num_centers\n",
    "        self.alpha = alpha\n",
    "\n",
    "        self.centers = nn.Parameter(torch.empty(num_centers, input_dim))\n",
    "        init.xavier_uniform_(self.centers)\n",
    "\n",
    "        self.weights = nn.Parameter(torch.empty(num_centers, output_dim))\n",
    "        init.xavier_uniform_(self.weights)\n",
    "\n",
    "    def besselTorch_rbf(self, distances):\n",
    "        return torch.special.bessel_j0(self.alpha * distances)\n",
    "\n",
    "    def forward(self, x):\n",
    "        distances = torch.cdist(x, self.centers)\n",
    "        basis_values = self.besselTorch_rbf(distances)\n",
    "        output = torch.sum(basis_values.unsqueeze(2) * self.weights.unsqueeze(0), dim=1)\n",
    "        return output\n",
    "class RBFBAN(nn.Module):\n",
    "    def __init__(self, input_dim, hidden_dim, output_dim, num_centers):\n",
    "        super(RBFBAN, self).__init__()\n",
    "        self.rbf_ban_layer = RBFBANLayer(input_dim, hidden_dim, num_centers)\n",
    "        self.output_weights = nn.Parameter(torch.empty(hidden_dim, output_dim))\n",
    "        init.xavier_uniform_(self.output_weights)\n",
    "\n",
    "    def forward(self, x):\n",
    "        x = self.rbf_ban_layer(x)\n",
    "        x = torch.relu(x)\n",
    "        x = torch.matmul(x, self.output_weights)\n",
    "        return x\n",
    "\n",
    "# Load MNIST\n",
    "transform = transforms.Compose([transforms.ToTensor(), transforms.Normalize((0.5,), (0.5,))])\n",
    "trainset = torchvision.datasets.MNIST(root=\"./data\", train=True, download=True, transform=transform)\n",
    "valset = torchvision.datasets.MNIST(root=\"./data\", train=False, download=True, transform=transform)\n",
    "trainloader = DataLoader(trainset, batch_size=64, shuffle=True)\n",
    "valloader = DataLoader(valset, batch_size=64, shuffle=False)\n",
    "\n",
    "# Define model\n",
    "model = RBFBAN(28 * 28, 64, 10, num_centers=100)\n",
    "device = torch.device(\"cuda\" if torch.cuda.is_available() else \"cpu\")\n",
    "model.to(device)\n",
    "\n",
    "# Define optimizer\n",
    "optimizer = optim.AdamW(model.parameters(), lr=5e-3)\n",
    "\n",
    "# Define loss\n",
    "criterion = nn.CrossEntropyLoss()\n",
    "\n",
    "# Define ReduceLROnPlateau scheduler\n",
    "scheduler = ReduceLROnPlateau(optimizer, mode='min', factor=0.7, patience=3, verbose=True)\n",
    "\n",
    "for epoch in range(10):\n",
    "    # Train\n",
    "    model.train()\n",
    "    total_loss = 0\n",
    "    total_accuracy = 0\n",
    "    with tqdm(trainloader) as pbar:\n",
    "        for images, labels in pbar:\n",
    "            images = images.view(-1, 28 * 28).to(device)\n",
    "            labels = labels.to(device)\n",
    "            optimizer.zero_grad()\n",
    "            output = model(images)\n",
    "            loss = criterion(output, labels)\n",
    "            loss.backward()\n",
    "            optimizer.step()\n",
    "            accuracy = (output.argmax(dim=1) == labels).float().mean()\n",
    "            total_loss += loss.item()\n",
    "            total_accuracy += accuracy.item()\n",
    "            pbar.set_postfix(loss=loss.item(), accuracy=accuracy.item())\n",
    "    total_loss /= len(trainloader)\n",
    "    total_accuracy /= len(trainloader)\n",
    "    \n",
    "    # Validation\n",
    "    model.eval()\n",
    "    val_loss = 0\n",
    "    val_accuracy = 0\n",
    "    with torch.no_grad():\n",
    "        for images, labels in valloader:\n",
    "            images = images.view(-1, 28 * 28).to(device)\n",
    "            labels = labels.to(device)\n",
    "            output = model(images)\n",
    "            val_loss += criterion(output, labels).item()\n",
    "            val_accuracy += (output.argmax(dim=1) == labels).float().mean().item()\n",
    "    val_loss /= len(valloader)\n",
    "    val_accuracy /= len(valloader)\n",
    "\n",
    "    # Step the scheduler based on validation loss\n",
    "    scheduler.step(val_loss)\n",
    "\n",
    "    print(f\"Epoch {epoch + 1}, Train Loss: {total_loss}, Train Accuracy: {total_accuracy}, Val Loss: {val_loss}, Val Accuracy: {val_accuracy}\")"
   ]
  },
  {
   "cell_type": "code",
   "execution_count": 4,
   "metadata": {},
   "outputs": [],
   "source": [
    "### BesselScipy_rbf"
   ]
  },
  {
   "cell_type": "code",
   "execution_count": 5,
   "metadata": {},
   "outputs": [
    {
     "name": "stderr",
     "output_type": "stream",
     "text": [
      "/Users/charles/anaconda3/lib/python3.11/site-packages/torch/optim/lr_scheduler.py:60: UserWarning: The verbose parameter is deprecated. Please use get_last_lr() to access the learning rate.\n",
      "  warnings.warn(\n",
      "100%|█████████████| 938/938 [00:07<00:00, 127.90it/s, accuracy=0.375, loss=1.59]\n"
     ]
    },
    {
     "name": "stdout",
     "output_type": "stream",
     "text": [
      "Epoch 1, Train Loss: 1.8383450393737761, Train Accuracy: 0.3138825959488273, Val Loss: 1.657223371943091, Val Accuracy: 0.4131170382165605\n"
     ]
    },
    {
     "name": "stderr",
     "output_type": "stream",
     "text": [
      "100%|█████████████| 938/938 [00:07<00:00, 133.38it/s, accuracy=0.656, loss=1.11]\n"
     ]
    },
    {
     "name": "stdout",
     "output_type": "stream",
     "text": [
      "Epoch 2, Train Loss: 1.4630956729846214, Train Accuracy: 0.4810434434968017, Val Loss: 1.2891415251288445, Val Accuracy: 0.5661823248407644\n"
     ]
    },
    {
     "name": "stderr",
     "output_type": "stream",
     "text": [
      "100%|█████████████| 938/938 [00:07<00:00, 123.02it/s, accuracy=0.594, loss=1.19]\n"
     ]
    },
    {
     "name": "stdout",
     "output_type": "stream",
     "text": [
      "Epoch 3, Train Loss: 1.1875712949075679, Train Accuracy: 0.5989805437100213, Val Loss: 1.1215891925392636, Val Accuracy: 0.6159434713375797\n"
     ]
    },
    {
     "name": "stderr",
     "output_type": "stream",
     "text": [
      "100%|████████████| 938/938 [00:07<00:00, 130.95it/s, accuracy=0.781, loss=0.651]\n"
     ]
    },
    {
     "name": "stdout",
     "output_type": "stream",
     "text": [
      "Epoch 4, Train Loss: 1.0120267848978672, Train Accuracy: 0.6637460021321961, Val Loss: 0.8993738574586856, Val Accuracy: 0.7136743630573248\n"
     ]
    },
    {
     "name": "stderr",
     "output_type": "stream",
     "text": [
      "100%|████████████| 938/938 [00:06<00:00, 135.84it/s, accuracy=0.719, loss=0.854]\n"
     ]
    },
    {
     "name": "stdout",
     "output_type": "stream",
     "text": [
      "Epoch 5, Train Loss: 0.9073988695515752, Train Accuracy: 0.7046075426439232, Val Loss: 0.9126652016001902, Val Accuracy: 0.6909832802547771\n"
     ]
    },
    {
     "name": "stderr",
     "output_type": "stream",
     "text": [
      "100%|█████████████| 938/938 [00:07<00:00, 126.25it/s, accuracy=0.719, loss=1.02]\n"
     ]
    },
    {
     "name": "stdout",
     "output_type": "stream",
     "text": [
      "Epoch 6, Train Loss: 0.8357455570306351, Train Accuracy: 0.730460421108742, Val Loss: 0.7690950873171448, Val Accuracy: 0.7654259554140127\n"
     ]
    },
    {
     "name": "stderr",
     "output_type": "stream",
     "text": [
      "100%|████████████| 938/938 [00:07<00:00, 129.17it/s, accuracy=0.688, loss=0.724]\n"
     ]
    },
    {
     "name": "stdout",
     "output_type": "stream",
     "text": [
      "Epoch 7, Train Loss: 0.7869509586901553, Train Accuracy: 0.7483841950959488, Val Loss: 0.7274813437537783, Val Accuracy: 0.7718949044585988\n"
     ]
    },
    {
     "name": "stderr",
     "output_type": "stream",
     "text": [
      "100%|████████████| 938/938 [00:07<00:00, 130.84it/s, accuracy=0.781, loss=0.713]\n"
     ]
    },
    {
     "name": "stdout",
     "output_type": "stream",
     "text": [
      "Epoch 8, Train Loss: 0.746294835260682, Train Accuracy: 0.7643756663113006, Val Loss: 0.73796828062671, Val Accuracy: 0.7534832802547771\n"
     ]
    },
    {
     "name": "stderr",
     "output_type": "stream",
     "text": [
      "100%|████████████| 938/938 [00:07<00:00, 133.00it/s, accuracy=0.906, loss=0.522]\n"
     ]
    },
    {
     "name": "stdout",
     "output_type": "stream",
     "text": [
      "Epoch 9, Train Loss: 0.7211696076621887, Train Accuracy: 0.7707389392324094, Val Loss: 0.6917945691354715, Val Accuracy: 0.7708996815286624\n"
     ]
    },
    {
     "name": "stderr",
     "output_type": "stream",
     "text": [
      "100%|████████████| 938/938 [00:07<00:00, 132.99it/s, accuracy=0.594, loss=0.892]\n"
     ]
    },
    {
     "name": "stdout",
     "output_type": "stream",
     "text": [
      "Epoch 10, Train Loss: 0.6938371279282864, Train Accuracy: 0.7817497334754797, Val Loss: 0.6694020243587008, Val Accuracy: 0.7853304140127388\n"
     ]
    }
   ],
   "source": [
    "import torch\n",
    "import torch.nn as nn\n",
    "import torch.optim as optim\n",
    "from torch.optim.lr_scheduler import ReduceLROnPlateau\n",
    "import torchvision\n",
    "import torchvision.transforms as transforms\n",
    "from torch.utils.data import DataLoader\n",
    "from tqdm import tqdm\n",
    "import scipy.special as sc\n",
    "\n",
    "import torch\n",
    "import torch.nn as nn\n",
    "import torch.nn.init as init\n",
    "\n",
    "class RBFBANLayer(nn.Module):\n",
    "    def __init__(self, input_dim, output_dim, num_centers, alpha=1.0, n=0):\n",
    "        super(RBFBANLayer, self).__init__()\n",
    "        self.input_dim = input_dim\n",
    "        self.output_dim = output_dim\n",
    "        self.num_centers = num_centers\n",
    "        self.alpha = alpha\n",
    "        self.n = n # order of bessel function\n",
    "\n",
    "        self.centers = nn.Parameter(torch.empty(num_centers, input_dim))\n",
    "        init.xavier_uniform_(self.centers)\n",
    "\n",
    "        self.weights = nn.Parameter(torch.empty(num_centers, output_dim))\n",
    "        init.xavier_uniform_(self.weights)\n",
    "\n",
    "    def besselScipy_rbf(self, distances):\n",
    "        # Detach the tensor from the computation graph and convert to NumPy array\n",
    "        distances_np = distances.detach().numpy()\n",
    "        # Compute the Bessel function\n",
    "        bessel_values = sc.jn(self.n, self.alpha * distances_np)\n",
    "        # Convert back to PyTorch tensor\n",
    "        return torch.from_numpy(bessel_values)\n",
    "\n",
    "    def forward(self, x):\n",
    "        distances = torch.cdist(x, self.centers)\n",
    "        basis_values = self.besselScipy_rbf(distances)\n",
    "        output = torch.sum(basis_values.unsqueeze(2) * self.weights.unsqueeze(0), dim=1)\n",
    "        return output\n",
    "class RBFBAN(nn.Module):\n",
    "    def __init__(self, input_dim, hidden_dim, output_dim, num_centers):\n",
    "        super(RBFBAN, self).__init__()\n",
    "        self.rbf_ban_layer = RBFBANLayer(input_dim, hidden_dim, num_centers)\n",
    "        self.output_weights = nn.Parameter(torch.empty(hidden_dim, output_dim))\n",
    "        init.xavier_uniform_(self.output_weights)\n",
    "\n",
    "    def forward(self, x):\n",
    "        x = self.rbf_ban_layer(x)\n",
    "        x = torch.relu(x)\n",
    "        x = torch.matmul(x, self.output_weights)\n",
    "        return x\n",
    "\n",
    "# Load MNIST\n",
    "transform = transforms.Compose([transforms.ToTensor(), transforms.Normalize((0.5,), (0.5,))])\n",
    "trainset = torchvision.datasets.MNIST(root=\"./data\", train=True, download=True, transform=transform)\n",
    "valset = torchvision.datasets.MNIST(root=\"./data\", train=False, download=True, transform=transform)\n",
    "trainloader = DataLoader(trainset, batch_size=64, shuffle=True)\n",
    "valloader = DataLoader(valset, batch_size=64, shuffle=False)\n",
    "\n",
    "# Define model\n",
    "model = RBFBAN(28 * 28, 64, 10, num_centers=100)\n",
    "device = torch.device(\"cuda\" if torch.cuda.is_available() else \"cpu\")\n",
    "model.to(device)\n",
    "\n",
    "# Define optimizer\n",
    "optimizer = optim.AdamW(model.parameters(), lr=5e-3)\n",
    "\n",
    "# Define loss\n",
    "criterion = nn.CrossEntropyLoss()\n",
    "\n",
    "# Define ReduceLROnPlateau scheduler\n",
    "scheduler = ReduceLROnPlateau(optimizer, mode='min', factor=0.7, patience=3, verbose=True)\n",
    "\n",
    "for epoch in range(10):\n",
    "    # Train\n",
    "    model.train()\n",
    "    total_loss = 0\n",
    "    total_accuracy = 0\n",
    "    with tqdm(trainloader) as pbar:\n",
    "        for images, labels in pbar:\n",
    "            images = images.view(-1, 28 * 28).to(device)\n",
    "            labels = labels.to(device)\n",
    "            optimizer.zero_grad()\n",
    "            output = model(images)\n",
    "            loss = criterion(output, labels)\n",
    "            loss.backward()\n",
    "            optimizer.step()\n",
    "            accuracy = (output.argmax(dim=1) == labels).float().mean()\n",
    "            total_loss += loss.item()\n",
    "            total_accuracy += accuracy.item()\n",
    "            pbar.set_postfix(loss=loss.item(), accuracy=accuracy.item())\n",
    "    total_loss /= len(trainloader)\n",
    "    total_accuracy /= len(trainloader)\n",
    "    \n",
    "    # Validation\n",
    "    model.eval()\n",
    "    val_loss = 0\n",
    "    val_accuracy = 0\n",
    "    with torch.no_grad():\n",
    "        for images, labels in valloader:\n",
    "            images = images.view(-1, 28 * 28).to(device)\n",
    "            labels = labels.to(device)\n",
    "            output = model(images)\n",
    "            val_loss += criterion(output, labels).item()\n",
    "            val_accuracy += (output.argmax(dim=1) == labels).float().mean().item()\n",
    "    val_loss /= len(valloader)\n",
    "    val_accuracy /= len(valloader)\n",
    "\n",
    "    # Step the scheduler based on validation loss\n",
    "    scheduler.step(val_loss)\n",
    "\n",
    "    print(f\"Epoch {epoch + 1}, Train Loss: {total_loss}, Train Accuracy: {total_accuracy}, Val Loss: {val_loss}, Val Accuracy: {val_accuracy}\")"
   ]
  },
  {
   "cell_type": "code",
   "execution_count": 6,
   "metadata": {},
   "outputs": [],
   "source": [
    "### Yukawa function"
   ]
  },
  {
   "cell_type": "code",
   "execution_count": null,
   "metadata": {},
   "outputs": [
    {
     "name": "stderr",
     "output_type": "stream",
     "text": [
      "100%|█████████████| 938/938 [00:06<00:00, 151.48it/s, accuracy=0.0938, loss=2.3]\n"
     ]
    },
    {
     "name": "stdout",
     "output_type": "stream",
     "text": [
      "Epoch 1, Train Loss: 2.302585129544679, Train Accuracy: 0.09886393923240938, Val Loss: 2.302585128006662, Val Accuracy: 0.09783041401273886\n"
     ]
    },
    {
     "name": "stderr",
     "output_type": "stream",
     "text": [
      "100%|█████████████| 938/938 [00:05<00:00, 158.05it/s, accuracy=0.0938, loss=2.3]\n"
     ]
    },
    {
     "name": "stdout",
     "output_type": "stream",
     "text": [
      "Epoch 2, Train Loss: 2.302585066508637, Train Accuracy: 0.09871401918976545, Val Loss: 2.3025849427387213, Val Accuracy: 0.09783041401273886\n"
     ]
    },
    {
     "name": "stderr",
     "output_type": "stream",
     "text": [
      "100%|██████████████████| 938/938 [00:06<00:00, 150.56it/s, accuracy=0, loss=2.3]\n"
     ]
    },
    {
     "name": "stdout",
     "output_type": "stream",
     "text": [
      "Epoch 3, Train Loss: 2.3025848156353557, Train Accuracy: 0.09866404584221748, Val Loss: 2.3025845995374548, Val Accuracy: 0.09783041401273886\n"
     ]
    },
    {
     "name": "stderr",
     "output_type": "stream",
     "text": [
      "100%|█████████████| 938/938 [00:06<00:00, 144.58it/s, accuracy=0.0938, loss=2.3]\n"
     ]
    },
    {
     "name": "stdout",
     "output_type": "stream",
     "text": [
      "Epoch 4, Train Loss: 2.3025837564773397, Train Accuracy: 0.09871401918976545, Val Loss: 2.302581847852962, Val Accuracy: 0.09783041401273886\n"
     ]
    },
    {
     "name": "stderr",
     "output_type": "stream",
     "text": [
      "100%|██████████████| 938/938 [00:06<00:00, 154.32it/s, accuracy=0.25, loss=2.04]\n"
     ]
    },
    {
     "name": "stdout",
     "output_type": "stream",
     "text": [
      "Epoch 5, Train Loss: 2.278119439763555, Train Accuracy: 0.09879730810234541, Val Loss: 2.186510521894807, Val Accuracy: 0.09783041401273886\n"
     ]
    },
    {
     "name": "stderr",
     "output_type": "stream",
     "text": [
      " 69%|████████▎   | 649/938 [00:04<00:01, 168.11it/s, accuracy=0.0938, loss=2.15]"
     ]
    }
   ],
   "source": [
    "import torch\n",
    "import torch.nn as nn\n",
    "import torch.optim as optim\n",
    "from torch.optim.lr_scheduler import ReduceLROnPlateau\n",
    "import torchvision\n",
    "import torchvision.transforms as transforms\n",
    "from torch.utils.data import DataLoader\n",
    "from tqdm import tqdm\n",
    "\n",
    "import torch\n",
    "import torch.nn as nn\n",
    "import torch.nn.init as init\n",
    "\n",
    "class RBFBANLayer(nn.Module):\n",
    "    def __init__(self, input_dim, output_dim, num_centers, alpha=0.5, beta=1.0):\n",
    "        super(RBFBANLayer, self).__init__()\n",
    "        self.input_dim = input_dim\n",
    "        self.output_dim = output_dim\n",
    "        self.num_centers = num_centers\n",
    "        self.alpha = alpha\n",
    "        self.beta = beta\n",
    "\n",
    "        self.centers = nn.Parameter(torch.empty(num_centers, input_dim))\n",
    "        init.xavier_uniform_(self.centers)\n",
    "\n",
    "        self.weights = nn.Parameter(torch.empty(num_centers, output_dim))\n",
    "        init.xavier_uniform_(self.weights)\n",
    "\n",
    "    def yukawa_rbf(self, distances):\n",
    "        return (self.beta / distances) * torch.exp(-self.alpha * distances)\n",
    "\n",
    "    def forward(self, x):\n",
    "        distances = torch.cdist(x, self.centers)\n",
    "        basis_values = self.yukawa_rbf(distances)\n",
    "        output = torch.sum(basis_values.unsqueeze(2) * self.weights.unsqueeze(0), dim=1)\n",
    "        return output\n",
    "\n",
    "class RBFBAN(nn.Module):\n",
    "    def __init__(self, input_dim, hidden_dim, output_dim, num_centers):\n",
    "        super(RBFBAN, self).__init__()\n",
    "        self.rbf_ban_layer = RBFBANLayer(input_dim, hidden_dim, num_centers)\n",
    "        self.output_weights = nn.Parameter(torch.empty(hidden_dim, output_dim))\n",
    "        init.xavier_uniform_(self.output_weights)\n",
    "        \n",
    "    def forward(self, x):\n",
    "        x = self.rbf_ban_layer(x)\n",
    "        x = torch.relu(x)\n",
    "        x = torch.matmul(x, self.output_weights)\n",
    "        return x\n",
    "\n",
    "# Load MNIST\n",
    "transform = transforms.Compose([transforms.ToTensor(), transforms.Normalize((0.5,), (0.5,))])\n",
    "trainset = torchvision.datasets.MNIST(root=\"./data\", train=True, download=True, transform=transform)\n",
    "valset = torchvision.datasets.MNIST(root=\"./data\", train=False, download=True, transform=transform)\n",
    "trainloader = DataLoader(trainset, batch_size=64, shuffle=True)\n",
    "valloader = DataLoader(valset, batch_size=64, shuffle=False)\n",
    "\n",
    "# Define model\n",
    "model = RBFBAN(28 * 28, 64, 10, num_centers=100)\n",
    "device = torch.device(\"cuda\" if torch.cuda.is_available() else \"cpu\")\n",
    "model.to(device)\n",
    "\n",
    "# Define optimizer\n",
    "optimizer = optim.AdamW(model.parameters(), lr=1e-3)\n",
    "\n",
    "# Define loss\n",
    "criterion = nn.CrossEntropyLoss()\n",
    "\n",
    "# Define ReduceLROnPlateau scheduler\n",
    "scheduler = ReduceLROnPlateau(optimizer, mode='min', factor=0.7, patience=3, verbose=True)\n",
    "\n",
    "for epoch in range(10):\n",
    "    # Train\n",
    "    model.train()\n",
    "    total_loss = 0\n",
    "    total_accuracy = 0\n",
    "    with tqdm(trainloader) as pbar:\n",
    "        for images, labels in pbar:\n",
    "            images = images.view(-1, 28 * 28).to(device)\n",
    "            labels = labels.to(device)\n",
    "            optimizer.zero_grad()\n",
    "            output = model(images)\n",
    "            loss = criterion(output, labels)\n",
    "            loss.backward()\n",
    "            optimizer.step()\n",
    "            accuracy = (output.argmax(dim=1) == labels).float().mean()\n",
    "            total_loss += loss.item()\n",
    "            total_accuracy += accuracy.item()\n",
    "            pbar.set_postfix(loss=loss.item(), accuracy=accuracy.item())\n",
    "    total_loss /= len(trainloader)\n",
    "    total_accuracy /= len(trainloader)\n",
    "    \n",
    "    # Validation\n",
    "    model.eval()\n",
    "    val_loss = 0\n",
    "    val_accuracy = 0\n",
    "    with torch.no_grad():\n",
    "        for images, labels in valloader:\n",
    "            images = images.view(-1, 28 * 28).to(device)\n",
    "            labels = labels.to(device)\n",
    "            output = model(images)\n",
    "            val_loss += criterion(output, labels).item()\n",
    "            val_accuracy += (output.argmax(dim=1) == labels).float().mean().item()\n",
    "    val_loss /= len(valloader)\n",
    "    val_accuracy /= len(valloader)\n",
    "\n",
    "    # Step the scheduler based on validation loss\n",
    "    scheduler.step(val_loss)\n",
    "\n",
    "    print(f\"Epoch {epoch + 1}, Train Loss: {total_loss}, Train Accuracy: {total_accuracy}, Val Loss: {val_loss}, Val Accuracy: {val_accuracy}\")"
   ]
  },
  {
   "cell_type": "code",
   "execution_count": null,
   "metadata": {},
   "outputs": [],
   "source": []
  }
 ],
 "metadata": {
  "kernelspec": {
   "display_name": "Python 3 (ipykernel)",
   "language": "python",
   "name": "python3"
  },
  "language_info": {
   "codemirror_mode": {
    "name": "ipython",
    "version": 3
   },
   "file_extension": ".py",
   "mimetype": "text/x-python",
   "name": "python",
   "nbconvert_exporter": "python",
   "pygments_lexer": "ipython3",
   "version": "3.11.7"
  }
 },
 "nbformat": 4,
 "nbformat_minor": 2
}
